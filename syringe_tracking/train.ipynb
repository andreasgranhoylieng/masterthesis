{
 "cells": [
  {
   "cell_type": "markdown",
   "metadata": {},
   "source": [
    "# Train object detection model"
   ]
  },
  {
   "cell_type": "code",
   "execution_count": null,
   "metadata": {
    "execution": {
     "iopub.execute_input": "2025-02-27T16:09:15.181297Z",
     "iopub.status.busy": "2025-02-27T16:09:15.181167Z",
     "iopub.status.idle": "2025-02-27T19:56:49.868492Z",
     "shell.execute_reply": "2025-02-27T19:56:49.867838Z"
    }
   },
   "outputs": [],
   "source": [
    "from ultralytics import YOLO\n",
    "\n",
    "model_type = \"n\"\n",
    "\n",
    "# Load a pre-trained YOLO11 model\n",
    "model = YOLO(f\"yolo11{model_type}.pt\") \n",
    "\n",
    "# Train the model on your dataset\n",
    "results = model.train(\n",
    "    data=\"../datasets/Syringes/data.yaml\", \n",
    "    epochs=12000,\n",
    "    imgsz=1440,\n",
    "    patience=50,\n",
    "    workers=32,\n",
    "    device=[0, 1, 2],\n",
    "    batch=3*4,\n",
    "    augment=True,\n",
    "    name=f\"train-OD11{model_type}-v9\" \n",
    ")"
   ]
  }
 ],
 "metadata": {
  "kernelspec": {
   "display_name": "yolo11-env",
   "language": "python",
   "name": "python3"
  },
  "language_info": {
   "codemirror_mode": {
    "name": "ipython",
    "version": 3
   },
   "file_extension": ".py",
   "mimetype": "text/x-python",
   "name": "python",
   "nbconvert_exporter": "python",
   "pygments_lexer": "ipython3",
   "version": "3.9.20"
  }
 },
 "nbformat": 4,
 "nbformat_minor": 2
}
