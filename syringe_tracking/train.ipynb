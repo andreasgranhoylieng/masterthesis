{
 "cells": [
  {
   "cell_type": "markdown",
   "metadata": {},
   "source": [
    "# Train object detection model"
   ]
  },
  {
   "cell_type": "code",
   "execution_count": null,
   "metadata": {},
   "outputs": [],
   "source": [
    "from ultralytics import YOLO\n",
    "\n",
    "# Load a pre-trained YOLO11 model\n",
    "model = YOLO(\"yolo11x.pt\")  # Choose the appropriate model variant\n",
    "\n",
    "# Train the model on your dataset\n",
    "results = model.train(\n",
    "    data=\"../datasets/Syringes/data.yaml\",  # Update with the path to your dataset configuration\n",
    "    epochs=1200,\n",
    "    imgsz=640,\n",
    "    patience=50,\n",
    "    workers=32,\n",
    "    device=[0, 1, 2],\n",
    "    batch=18,\n",
    "    augment=True,  # Enable data augmentation\n",
    "    # You can specify additional augmentation parameters here if needed\n",
    ")"
   ]
  }
 ],
 "metadata": {
  "kernelspec": {
   "display_name": "yolo11-env",
   "language": "python",
   "name": "python3"
  },
  "language_info": {
   "codemirror_mode": {
    "name": "ipython",
    "version": 3
   },
   "file_extension": ".py",
   "mimetype": "text/x-python",
   "name": "python",
   "nbconvert_exporter": "python",
   "pygments_lexer": "ipython3",
   "version": "3.9.20"
  }
 },
 "nbformat": 4,
 "nbformat_minor": 2
}
