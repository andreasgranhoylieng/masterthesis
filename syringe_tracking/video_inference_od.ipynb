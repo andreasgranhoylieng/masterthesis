{
 "cells": [
  {
   "cell_type": "code",
   "execution_count": null,
   "metadata": {},
   "outputs": [],
   "source": [
    "import os\n",
    "import cv2\n",
    "from ultralytics import YOLO\n",
    "\n",
    "os.environ['KMP_DUPLICATE_LIB_OK'] = 'True'\n",
    "\n",
    "# Load a pretrained YOLO model\n",
    "model = YOLO('runs/detect/train-OD11x-v8/weights/best.pt').to('mps')\n",
    "\n",
    "# Run inference on the source with streaming\n",
    "results = model.track(source='../videos/input_videos/IMG_4732.mov', show=True, tracker=\"bytetrack_od.yaml\", save=True)\n",
    "\n",
    "\n",
    "\"\"\"\n",
    "# Iterate over results and display\n",
    "for result in results:\n",
    "    frame = result.plot()  # Get the frame with detections drawn on it\n",
    "\n",
    "    # Display the frame\n",
    "    cv2.imshow(\"YOLO11 Tracking\", frame)\n",
    "    \n",
    "    # Press 'q' to quit the visualization\n",
    "    if cv2.waitKey(1) & 0xFF == ord('q'):\n",
    "        break\n",
    "\n",
    "cv2.destroyAllWindows()\n",
    "\"\"\""
   ]
  }
 ],
 "metadata": {
  "kernelspec": {
   "display_name": "yolo11-env",
   "language": "python",
   "name": "python3"
  },
  "language_info": {
   "codemirror_mode": {
    "name": "ipython",
    "version": 3
   },
   "file_extension": ".py",
   "mimetype": "text/x-python",
   "name": "python",
   "nbconvert_exporter": "python",
   "pygments_lexer": "ipython3",
   "version": "3.9.20"
  }
 },
 "nbformat": 4,
 "nbformat_minor": 2
}
