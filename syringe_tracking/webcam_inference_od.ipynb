{
 "cells": [
  {
   "cell_type": "code",
   "execution_count": null,
   "metadata": {},
   "outputs": [],
   "source": [
    "from ultralytics import YOLO\n",
    "import cv2\n",
    "\n",
    "def run_webcam_tracking(detect_model_path: str, pose_model_path: str) -> None:\n",
    "    # Load the YOLO models\n",
    "    detect_model: YOLO = YOLO(detect_model_path).to(\"mps\")\n",
    "    pose_model: YOLO = YOLO(pose_model_path).to(\"mps\")\n",
    "    \n",
    "    # Open the webcam\n",
    "    cap: cv2.VideoCapture = cv2.VideoCapture(0)\n",
    "    if not cap.isOpened():\n",
    "        print(\"Error: Could not open the webcam.\")\n",
    "        return\n",
    "\n",
    "    # Set webcam resolution to 4K (3840x2160)\n",
    "    cap.set(cv2.CAP_PROP_FRAME_WIDTH, 3840)\n",
    "    cap.set(cv2.CAP_PROP_FRAME_HEIGHT, 2160)\n",
    "    \n",
    "    # Print the current resolution to verify\n",
    "    width: float = cap.get(cv2.CAP_PROP_FRAME_WIDTH)\n",
    "    height: float = cap.get(cv2.CAP_PROP_FRAME_HEIGHT)\n",
    "    print(f\"Webcam resolution set to: {width} x {height} 📸\")\n",
    "    \n",
    "    while True:\n",
    "        ret, frame = cap.read()\n",
    "        if not ret:\n",
    "            break\n",
    "        \n",
    "        # Run YOLO object detection with ByteTrack enabled\n",
    "        detect_results = detect_model.track(frame,  tracker=\"bytetrack.yaml\")\n",
    "        detect_annotated_frame = detect_results[0].plot()\n",
    "        \n",
    "        # Run YOLO pose estimation\n",
    "        pose_results = pose_model(frame)\n",
    "        pose_annotated_frame = pose_results[0].plot()\n",
    "        \n",
    "        # Merge both detections by overlaying them\n",
    "        combined_frame = cv2.addWeighted(detect_annotated_frame, 0.5, pose_annotated_frame, 0.5, 0)\n",
    "        \n",
    "        # Display the combined frame\n",
    "        cv2.imshow(\"YOLO Detection + Pose Estimation\", combined_frame)\n",
    "        \n",
    "        # Exit the loop if 'q' is pressed\n",
    "        if cv2.waitKey(1) & 0xFF == ord('q'):\n",
    "            break\n",
    "\n",
    "    # Release the webcam and close the window\n",
    "    cap.release()\n",
    "    cv2.destroyAllWindows()\n",
    "\n",
    "if __name__ == \"__main__\":\n",
    "    run_webcam_tracking(\"runs/detect/train-OD11n-v8/weights/best.pt\", \"../ultralytics_models/pose/yolo11n-pose.pt\")\n"
   ]
  }
 ],
 "metadata": {
  "kernelspec": {
   "display_name": "yolo11-env",
   "language": "python",
   "name": "python3"
  },
  "language_info": {
   "codemirror_mode": {
    "name": "ipython",
    "version": 3
   },
   "file_extension": ".py",
   "mimetype": "text/x-python",
   "name": "python",
   "nbconvert_exporter": "python",
   "pygments_lexer": "ipython3",
   "version": "3.9.20"
  }
 },
 "nbformat": 4,
 "nbformat_minor": 2
}
