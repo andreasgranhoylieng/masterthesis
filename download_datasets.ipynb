{
 "cells": [
  {
   "cell_type": "code",
   "execution_count": 2,
   "metadata": {},
   "outputs": [
    {
     "name": "stdout",
     "output_type": "stream",
     "text": [
      "loading Roboflow workspace...\n",
      "loading Roboflow project...\n"
     ]
    },
    {
     "name": "stderr",
     "output_type": "stream",
     "text": [
      "Downloading Dataset Version Zip in datasets/Syringe-volume-estimation-yolo/ to yolov8:: 100%|██████████| 36536/36536 [00:04<00:00, 8176.93it/s] "
     ]
    },
    {
     "name": "stdout",
     "output_type": "stream",
     "text": [
      "\n"
     ]
    },
    {
     "name": "stderr",
     "output_type": "stream",
     "text": [
      "\n",
      "Extracting Dataset Version Zip to datasets/Syringe-volume-estimation-yolo/ in yolov8:: 100%|██████████| 1394/1394 [00:00<00:00, 8768.56it/s]\n"
     ]
    }
   ],
   "source": [
    "from roboflow import Roboflow\n",
    "\n",
    "rf = Roboflow(api_key=\"WhO3q8dLKIclIg7IxQpe\")\n",
    "project = rf.workspace(\"mastersmedical\").project(\"syringe-volume-estimation\")\n",
    "version = project.version(9)\n",
    "dataset = version.download(\"yolov8\", location=\"datasets/Syringe-volume-estimation-yolo/\")"
   ]
  },
  {
   "cell_type": "code",
   "execution_count": 1,
   "metadata": {},
   "outputs": [
    {
     "name": "stdout",
     "output_type": "stream",
     "text": [
      "loading Roboflow workspace...\n",
      "loading Roboflow project...\n"
     ]
    },
    {
     "name": "stderr",
     "output_type": "stream",
     "text": [
      "Downloading Dataset Version Zip in datasets/Syringe-volume-estimation-detectron2/ to coco:: 100%|██████████| 36306/36306 [00:04<00:00, 8222.50it/s] "
     ]
    },
    {
     "name": "stdout",
     "output_type": "stream",
     "text": [
      "\n"
     ]
    },
    {
     "name": "stderr",
     "output_type": "stream",
     "text": [
      "\n",
      "Extracting Dataset Version Zip to datasets/Syringe-volume-estimation-detectron2/ in coco:: 100%|██████████| 699/699 [00:00<00:00, 7577.34it/s]\n"
     ]
    }
   ],
   "source": [
    "from roboflow import Roboflow\n",
    "\n",
    "rf = Roboflow(api_key=\"WhO3q8dLKIclIg7IxQpe\")\n",
    "project = rf.workspace(\"mastersmedical\").project(\"syringe-volume-estimation\")\n",
    "version = project.version(9)\n",
    "dataset = version.download(\"coco\", location=\"datasets/Syringe-volume-estimation-detectron2/\")"
   ]
  }
 ],
 "metadata": {
  "kernelspec": {
   "display_name": "yolo11-env",
   "language": "python",
   "name": "python3"
  },
  "language_info": {
   "codemirror_mode": {
    "name": "ipython",
    "version": 3
   },
   "file_extension": ".py",
   "mimetype": "text/x-python",
   "name": "python",
   "nbconvert_exporter": "python",
   "pygments_lexer": "ipython3",
   "version": "3.9.20"
  }
 },
 "nbformat": 4,
 "nbformat_minor": 2
}
