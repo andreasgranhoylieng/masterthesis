{
 "cells": [
  {
   "cell_type": "code",
   "execution_count": null,
   "metadata": {},
   "outputs": [],
   "source": [
    "from roboflow import Roboflow\n",
    "\n",
    "rf = Roboflow(api_key=\"WhO3q8dLKIclIg7IxQpe\")\n",
    "project = rf.workspace(\"mastersmedical\").project(\"syringe-volume-estimation\")\n",
    "version = project.version(3)\n",
    "dataset = version.download(\"yolov8\", location=\"datasets/Syringe-volume-estimation/\")"
   ]
  }
 ],
 "metadata": {
  "language_info": {
   "name": "python"
  }
 },
 "nbformat": 4,
 "nbformat_minor": 2
}
