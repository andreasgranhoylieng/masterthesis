{
 "cells": [
  {
   "cell_type": "markdown",
   "metadata": {},
   "source": [
    "# Download syringe pose dataset in YOLO and COCO"
   ]
  },
  {
   "cell_type": "code",
   "execution_count": 1,
   "metadata": {},
   "outputs": [
    {
     "name": "stdout",
     "output_type": "stream",
     "text": [
      "loading Roboflow workspace...\n",
      "loading Roboflow project...\n"
     ]
    },
    {
     "name": "stderr",
     "output_type": "stream",
     "text": [
      "Downloading Dataset Version Zip in datasets/Syringe-volume-estimation-yolo/ to yolov8:: 100%|██████████| 226151/226151 [00:27<00:00, 8272.61it/s] "
     ]
    },
    {
     "name": "stdout",
     "output_type": "stream",
     "text": [
      "\n"
     ]
    },
    {
     "name": "stderr",
     "output_type": "stream",
     "text": [
      "\n",
      "Extracting Dataset Version Zip to datasets/Syringe-volume-estimation-yolo/ in yolov8:: 100%|██████████| 6744/6744 [00:00<00:00, 8478.23it/s]\n"
     ]
    }
   ],
   "source": [
    "from roboflow import Roboflow\n",
    "import os\n",
    "import shutil\n",
    "\n",
    "if os.path.exists(\"datasets/Syringe-volume-estimation-yolo/\"):\n",
    "    shutil.rmtree(\"datasets/Syringe-volume-estimation-yolo/\")\n",
    "if os.path.exists(\"datasets/Syringe-volume-estimation-detectron2/\"):\n",
    "    shutil.rmtree(\"datasets/Syringe-volume-estimation-detectron2/\")\n",
    "\n",
    "rf = Roboflow(api_key=\"WhO3q8dLKIclIg7IxQpe\")\n",
    "project = rf.workspace(\"mastersmedical\").project(\"syringe-volume-estimation\")\n",
    "version = project.version(13)\n",
    "dataset_yolo = version.download(\"yolov8\", location=\"datasets/Syringe-volume-estimation-yolo/\")\n",
    "#dataset_coco = version.download(\"coco\", location=\"datasets/Syringe-volume-estimation-detectron2/\")"
   ]
  }
 ],
 "metadata": {
  "kernelspec": {
   "display_name": "yolo11-env",
   "language": "python",
   "name": "python3"
  },
  "language_info": {
   "codemirror_mode": {
    "name": "ipython",
    "version": 3
   },
   "file_extension": ".py",
   "mimetype": "text/x-python",
   "name": "python",
   "nbconvert_exporter": "python",
   "pygments_lexer": "ipython3",
   "version": "3.9.20"
  }
 },
 "nbformat": 4,
 "nbformat_minor": 2
}
