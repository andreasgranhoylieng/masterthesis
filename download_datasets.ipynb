{
 "cells": [
  {
   "cell_type": "markdown",
   "metadata": {},
   "source": [
    "# Download syringe pose dataset in YOLO and COCO"
   ]
  },
  {
   "cell_type": "code",
   "execution_count": null,
   "metadata": {},
   "outputs": [],
   "source": [
    "from roboflow import Roboflow\n",
    "import os\n",
    "import shutil\n",
    "\n",
    "if os.path.exists(\"datasets/Syringe-volume-estimation-yolo/\"):\n",
    "    shutil.rmtree(\"datasets/Syringe-volume-estimation-yolo/\")\n",
    "\n",
    "\n",
    "rf = Roboflow(api_key=\"WhO3q8dLKIclIg7IxQpe\")\n",
    "project = rf.workspace(\"mastersmedical\").project(\"syringe-volume-estimation\")\n",
    "version = project.version(13)\n",
    "dataset_yolo = version.download(\"yolov8\", location=\"datasets/Syringe-volume-estimation-yolo/\")"
   ]
  },
  {
   "cell_type": "markdown",
   "metadata": {},
   "source": [
    "# Download object detection dataset "
   ]
  },
  {
   "cell_type": "code",
   "execution_count": 1,
   "metadata": {},
   "outputs": [
    {
     "name": "stdout",
     "output_type": "stream",
     "text": [
      "loading Roboflow workspace...\n",
      "loading Roboflow project...\n"
     ]
    },
    {
     "name": "stderr",
     "output_type": "stream",
     "text": [
      "Downloading Dataset Version Zip in datasets/Syringes/ to yolov11:: 100%|██████████| 399992/399992 [01:02<00:00, 6380.92it/s]"
     ]
    },
    {
     "name": "stdout",
     "output_type": "stream",
     "text": [
      "\n"
     ]
    },
    {
     "name": "stderr",
     "output_type": "stream",
     "text": [
      "\n",
      "Extracting Dataset Version Zip to datasets/Syringes/ in yolov11:: 100%|██████████| 9712/9712 [00:01<00:00, 7451.96it/s]\n"
     ]
    }
   ],
   "source": [
    "from roboflow import Roboflow\n",
    "import os\n",
    "import shutil\n",
    "\n",
    "if os.path.exists(\"datasets/Syringes/\"):\n",
    "    shutil.rmtree(\"datasets/Syringes/\")\n",
    "\n",
    "rf = Roboflow(api_key=\"WhO3q8dLKIclIg7IxQpe\")\n",
    "project = rf.workspace(\"mastersmedical\").project(\"syringe-tracker\")\n",
    "version = project.version(4)\n",
    "dataset = version.download(\"yolov11\", location=\"datasets/Syringes/\")\n",
    "                "
   ]
  }
 ],
 "metadata": {
  "kernelspec": {
   "display_name": "yolo11-env",
   "language": "python",
   "name": "python3"
  },
  "language_info": {
   "codemirror_mode": {
    "name": "ipython",
    "version": 3
   },
   "file_extension": ".py",
   "mimetype": "text/x-python",
   "name": "python",
   "nbconvert_exporter": "python",
   "pygments_lexer": "ipython3",
   "version": "3.9.20"
  }
 },
 "nbformat": 4,
 "nbformat_minor": 2
}
