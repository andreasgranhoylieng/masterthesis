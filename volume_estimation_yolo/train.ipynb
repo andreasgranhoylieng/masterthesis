{
 "cells": [
  {
   "cell_type": "markdown",
   "metadata": {},
   "source": [
    "# Train the YOLO pose model\n",
    "\n",
    "Important not to flip as keypoints are left-right sensitive\n"
   ]
  },
  {
   "cell_type": "code",
   "execution_count": null,
   "metadata": {},
   "outputs": [],
   "source": [
    "from ultralytics import YOLO\n",
    "\n",
    "# Load a model\n",
    "model = YOLO(\"../ultralytics_models/pose/yolo11x-pose.pt\")\n",
    "results = model.train(\n",
    "    data=\"../datasets/Syringe-volume-estimation-yolo/data.yaml\",\n",
    "    epochs=1200,\n",
    "    imgsz=640,\n",
    "    patience=50,\n",
    "    workers=32,\n",
    "    device=[0, 1, 2],\n",
    "    batch=3*18,\n",
    "    augment=True,          \n",
    "    flipud=0.0,\n",
    "    fliplr=0.0,            \n",
    "    degrees=170,\n",
    "    translate=0.1,\n",
    "    scale=0.2,\n",
    "    shear=5.0,\n",
    "    perspective=0.001,\n",
    "    single_cls=True,\n",
    ")\n"
   ]
  }
 ],
 "metadata": {
  "kernelspec": {
   "display_name": "yolo11-env",
   "language": "python",
   "name": "python3"
  },
  "language_info": {
   "codemirror_mode": {
    "name": "ipython",
    "version": 3
   },
   "file_extension": ".py",
   "mimetype": "text/x-python",
   "name": "python",
   "nbconvert_exporter": "python",
   "pygments_lexer": "ipython3",
   "version": "3.9.20"
  }
 },
 "nbformat": 4,
 "nbformat_minor": 2
}
