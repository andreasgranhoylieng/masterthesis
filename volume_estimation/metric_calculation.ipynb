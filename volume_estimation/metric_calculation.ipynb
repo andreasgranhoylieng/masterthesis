{
 "cells": [
  {
   "cell_type": "code",
   "execution_count": 1,
   "metadata": {},
   "outputs": [],
   "source": [
    "import os\n",
    "import re\n",
    "\n",
    "import numpy as np\n",
    "import pandas as pd\n",
    "from video_and_webcam_inference import SyringeVolumeEstimator"
   ]
  },
  {
   "cell_type": "code",
   "execution_count": 2,
   "metadata": {},
   "outputs": [],
   "source": [
    "final_dataframe= pd.DataFrame(columns=['video_path', 'actual_volume (ml)', 'min', 'max', 'mean', 'std', 'median', 'SEM', 'CV', 'diameter (cm)', 'zoom'])"
   ]
  },
  {
   "cell_type": "code",
   "execution_count": null,
   "metadata": {},
   "outputs": [],
   "source": [
    "# find all the video files in the \"videos\" directory and subfolders\n",
    "video_paths = []\n",
    "\n",
    "for root, dirs, files in os.walk(\"videos\"):\n",
    "    for file in files:\n",
    "        if file.endswith(\".mov\"):\n",
    "            video_paths.append(os.path.join(root, file))\n",
    "\n",
    "print(f\"Found {len(video_paths)} video files.\")"
   ]
  },
  {
   "cell_type": "code",
   "execution_count": 4,
   "metadata": {},
   "outputs": [],
   "source": [
    "# Define the regular expression pattern.\n",
    "pattern_diameter: re.Pattern = re.compile(r'/(\\d+\\.\\d+)-\\d+ml\\.mov$')\n",
    "\n",
    "# a pattern for finding the volume in the filename\n",
    "pattern_volume: re.Pattern = re.compile(r'/\\d+\\.\\d+-(\\d+)ml\\.mov$')\n",
    "\n",
    "# a pattern for finding the zoom in the filename\n",
    "pattern_zoom: re.Pattern = re.compile(r'^videos/(\\d+x)/')"
   ]
  },
  {
   "cell_type": "code",
   "execution_count": null,
   "metadata": {},
   "outputs": [],
   "source": [
    "# Initialize an empty list to collect new rows\n",
    "new_rows = []\n",
    "\n",
    "for video_path in video_paths:\n",
    "    print(f\"Processing {video_path}...\")\n",
    "\n",
    "    # Create an instance of the SyringeVolumeEstimator\n",
    "    estimator = SyringeVolumeEstimator()\n",
    "    estimator.run(input_source='video', video_path=video_path)\n",
    "\n",
    "    data = pd.read_csv('syringe_data.csv').iloc[0:150]\n",
    "\n",
    "    # Extract diameter\n",
    "    match_diameter = pattern_diameter.search(video_path)\n",
    "    diameter: str = match_diameter.group(1) if match_diameter else \"Unknown\"\n",
    "\n",
    "    # Extract volume\n",
    "    match_volume = pattern_volume.search(video_path)\n",
    "    volume: str = match_volume.group(1) if match_volume else \"Unknown\"\n",
    "\n",
    "    # Extract zoom\n",
    "    match_zoom = pattern_zoom.search(video_path)\n",
    "    zoom: str = match_zoom.group(1) if match_zoom else \"Unknown\"\n",
    "\n",
    "    column = f\"volume_D{diameter}\"\n",
    "\n",
    "    # Calculate statistics\n",
    "    min_val = data[column].min()\n",
    "    max_val = data[column].max()\n",
    "    mean_val = data[column].mean()\n",
    "    std_val = data[column].std()\n",
    "    median_val = data[column].median()\n",
    "    sem_val = std_val / np.sqrt(len(data[column]))\n",
    "    cv_val = (std_val / mean_val) * 100\n",
    "\n",
    "    print(f\"Min: {min_val:.3f}\")\n",
    "    print(f\"Max: {max_val:.3f}\")\n",
    "    print(f\"Mean: {mean_val:.3f}\")\n",
    "    print(f\"Std: {std_val:.3f}\")\n",
    "    print(f\"Median: {median_val:.3f}\")\n",
    "    print(f\"SEM: {sem_val:.3f}\")\n",
    "    print(f\"CV: {cv_val:.3f}\")\n",
    "\n",
    "    # Append the new row as a dictionary to the list\n",
    "    new_rows.append({\n",
    "        'video_path': video_path,\n",
    "        'actual_volume (ml)': volume,\n",
    "        'diameter (cm)': diameter,\n",
    "        'min': min_val,\n",
    "        'max': max_val,\n",
    "        'mean': mean_val,\n",
    "        'std': std_val,\n",
    "        'median': median_val,\n",
    "        'SEM': sem_val,\n",
    "        'CV': cv_val,\n",
    "        'zoom': zoom\n",
    "    })\n",
    "\n",
    "    print(f\"Finished processing {video_path}.\\n\\n\")\n",
    "\n",
    "# After the loop, create a DataFrame from the list of new rows\n",
    "new_rows_df = pd.DataFrame(new_rows)\n",
    "\n",
    "# Concatenate the original DataFrame with the new rows DataFrame\n",
    "final_dataframe = pd.concat([final_dataframe, new_rows_df], ignore_index=True)\n",
    "\n",
    "# Display the last few rows of the updated DataFrame\n",
    "display(final_dataframe.tail(30))"
   ]
  },
  {
   "cell_type": "code",
   "execution_count": 6,
   "metadata": {},
   "outputs": [],
   "source": [
    "# Save the final DataFrame to a CSV file\n",
    "final_dataframe.to_csv('syringe_volume_estimations_and_metrics.csv', index=False)"
   ]
  }
 ],
 "metadata": {
  "kernelspec": {
   "display_name": "yolo11-env",
   "language": "python",
   "name": "python3"
  },
  "language_info": {
   "codemirror_mode": {
    "name": "ipython",
    "version": 3
   },
   "file_extension": ".py",
   "mimetype": "text/x-python",
   "name": "python",
   "nbconvert_exporter": "python",
   "pygments_lexer": "ipython3",
   "version": "3.9.20"
  }
 },
 "nbformat": 4,
 "nbformat_minor": 2
}
