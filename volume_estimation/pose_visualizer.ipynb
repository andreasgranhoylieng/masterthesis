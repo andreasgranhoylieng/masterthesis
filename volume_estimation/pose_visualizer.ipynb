{
 "cells": [
  {
   "cell_type": "code",
   "execution_count": null,
   "metadata": {},
   "outputs": [],
   "source": [
    "from ultralytics import YOLO\n",
    "import matplotlib.pyplot as plt\n",
    "import cv2\n",
    "\n",
    "# Load the model\n",
    "model = YOLO(\"runs/pose/train2/weights/best.pt\")  # Load a custom model\n",
    "\n",
    "# Predict with the model\n",
    "results = model(\n",
    "    \"../datasets/Syringe-volume-estimation/test/images/IMG_4324_mov-0013_jpg.rf.e9564042a885cc5b19270e7afc64fa64.jpg\",\n",
    "    conf=0.6\n",
    "    )\n",
    "\n",
    "# Extract the image with annotations\n",
    "annotated_image = results[0].plot()  # Visualize the results on the image\n",
    "\n",
    "# Convert the image to RGB format (OpenCV uses BGR by default)\n",
    "annotated_image = cv2.cvtColor(annotated_image, cv2.COLOR_BGR2RGB)\n",
    "\n",
    "# Display the image using matplotlib\n",
    "plt.figure(figsize=(10, 10))\n",
    "plt.imshow(annotated_image)\n",
    "plt.axis(\"off\")  # Turn off axes for better visualization\n",
    "plt.show()"
   ]
  }
 ],
 "metadata": {
  "kernelspec": {
   "display_name": "yolo11-env",
   "language": "python",
   "name": "python3"
  },
  "language_info": {
   "codemirror_mode": {
    "name": "ipython",
    "version": 3
   },
   "file_extension": ".py",
   "mimetype": "text/x-python",
   "name": "python",
   "nbconvert_exporter": "python",
   "pygments_lexer": "ipython3",
   "version": "3.9.20"
  }
 },
 "nbformat": 4,
 "nbformat_minor": 2
}
