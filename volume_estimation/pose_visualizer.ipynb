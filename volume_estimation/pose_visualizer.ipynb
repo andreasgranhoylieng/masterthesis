{
 "cells": [
  {
   "cell_type": "markdown",
   "metadata": {},
   "source": [
    "# Pose Visualizer\n",
    "\n",
    "Visualize images from test dataset to verify model inferences"
   ]
  },
  {
   "cell_type": "code",
   "execution_count": null,
   "metadata": {},
   "outputs": [],
   "source": [
    "from ultralytics import YOLO\n",
    "import matplotlib.pyplot as plt\n",
    "import cv2\n",
    "import os\n",
    "\n",
    "# Path to the folder containing test images\n",
    "test_folder = \"../datasets/Syringe-volume-estimation-yolo/test/images\"\n",
    "\n",
    "# Load the model\n",
    "model = YOLO(\"runs/pose/train-pose11x-v12-unfinished/weights/best.pt\")\n",
    "\n",
    "# Loop through all files in the test folder\n",
    "for file_name in os.listdir(test_folder):\n",
    "    # Check if the file is a valid image\n",
    "    if file_name.endswith((\".jpg\", \".jpeg\", \".png\")):\n",
    "        image_path = os.path.join(test_folder, file_name)\n",
    "        \n",
    "        # Predict with the model\n",
    "        results = model(image_path, conf=0.4)\n",
    "        \n",
    "        # Extract the image with annotations\n",
    "        annotated_image = results[0].plot()  # Visualize the results on the image\n",
    "        \n",
    "        # Convert the image to RGB format (OpenCV uses BGR by default)\n",
    "        annotated_image = cv2.cvtColor(annotated_image, cv2.COLOR_BGR2RGB)\n",
    "        \n",
    "        # Display the image using matplotlib\n",
    "        plt.figure(figsize=(10, 10))\n",
    "        plt.imshow(annotated_image)\n",
    "        plt.axis(\"off\")  # Turn off axes for better visualization\n",
    "        plt.title(file_name)  # Display the file name as title\n",
    "        plt.show()"
   ]
  }
 ],
 "metadata": {
  "kernelspec": {
   "display_name": "prosjektoppgave",
   "language": "python",
   "name": "python3"
  },
  "language_info": {
   "codemirror_mode": {
    "name": "ipython",
    "version": 3
   },
   "file_extension": ".py",
   "mimetype": "text/x-python",
   "name": "python",
   "nbconvert_exporter": "python",
   "pygments_lexer": "ipython3",
   "version": "3.10.15"
  }
 },
 "nbformat": 4,
 "nbformat_minor": 2
}
